{
 "cells": [
  {
   "cell_type": "markdown",
   "metadata": {},
   "source": [
    "# **Visium Mousebrain Example**"
   ]
  },
  {
   "cell_type": "markdown",
   "metadata": {},
   "source": [
    "**Preprocessing**"
   ]
  },
  {
   "cell_type": "code",
   "execution_count": 1,
   "metadata": {},
   "outputs": [],
   "source": [
    "import os\n",
    "import gc\n",
    "import ot\n",
    "import anndata\n",
    "import scanpy as sc\n",
    "import pandas as pd\n",
    "import numpy as np\n",
    "from scipy import sparse\n",
    "import matplotlib.pyplot as plt\n",
    "\n",
    "import commot as ct"
   ]
  },
  {
   "cell_type": "code",
   "execution_count": 2,
   "metadata": {},
   "outputs": [
    {
     "name": "stderr",
     "output_type": "stream",
     "text": [
      "100%|██████████| 9.26M/9.26M [00:00<00:00, 12.7MB/s]\n",
      "100%|██████████| 20.1M/20.1M [00:01<00:00, 13.4MB/s]\n"
     ]
    }
   ],
   "source": [
    "adata = sc.datasets.visium_sge(sample_id='V1_Mouse_Brain_Sagittal_Posterior')"
   ]
  },
  {
   "cell_type": "markdown",
   "metadata": {},
   "source": [
    "**COMMOT**"
   ]
  },
  {
   "cell_type": "code",
   "execution_count": null,
   "metadata": {},
   "outputs": [],
   "source": [
    "from _utils._pipelinemisc import cellcoms\n",
    "\n",
    "\n",
    "cellcoms(adata, 'mouse')"
   ]
  },
  {
   "cell_type": "code",
   "execution_count": null,
   "metadata": {},
   "outputs": [],
   "source": [
    "#save to avoid running again\n",
    "adata.write(\"mousebrain_COMMOT.h5ad\")"
   ]
  },
  {
   "cell_type": "markdown",
   "metadata": {},
   "source": [
    "**GAM**"
   ]
  },
  {
   "cell_type": "code",
   "execution_count": null,
   "metadata": {},
   "outputs": [],
   "source": [
    "from tools._functions import findgenes, findsignals, masscausalcandidates\n",
    "\n",
    "interestgenes = findgenes(adata, ngenes = 2000)\n",
    "interestsignals = findsignals(adata, nsignals=150, filtermincells=10, style='most active')\n",
    "\n",
    "candidatedf = masscausalcandidates(adata, interestgenes, interestsignals, threshold = 0.0)\n",
    "candidatedf.head(10)"
   ]
  },
  {
   "cell_type": "markdown",
   "metadata": {},
   "source": [
    "**Causal Function**"
   ]
  },
  {
   "cell_type": "code",
   "execution_count": null,
   "metadata": {},
   "outputs": [],
   "source": [
    "from tools._functions import masscausal\n",
    "\n",
    "causalresults = masscausal(adata, candidates=candidatedf, propensity_score_model = 'GAM', model = 'linear', method = 'AIPW', \n",
    "           bootstrap=False, teststyle='Naive', n_covars = 20, n_samples = 10000, graph=False)"
   ]
  },
  {
   "cell_type": "markdown",
   "metadata": {},
   "source": [
    "**Pearson Tiebreaker**"
   ]
  },
  {
   "cell_type": "code",
   "execution_count": null,
   "metadata": {},
   "outputs": [],
   "source": [
    "from tools._functions import pearsonties\n",
    "\n",
    "pearsonties(adata, causalresults)"
   ]
  },
  {
   "cell_type": "markdown",
   "metadata": {},
   "source": [
    "**Evaluation**"
   ]
  },
  {
   "cell_type": "markdown",
   "metadata": {},
   "source": [
    "*Pearsons*"
   ]
  },
  {
   "cell_type": "code",
   "execution_count": null,
   "metadata": {},
   "outputs": [],
   "source": [
    "from _utils._analysis import pearsondf\n",
    "\n",
    "pearsonresults = pearsondf(adata, interestgenes, interestsignals)"
   ]
  },
  {
   "cell_type": "markdown",
   "metadata": {},
   "source": [
    "*Dictionary Search*"
   ]
  },
  {
   "cell_type": "markdown",
   "metadata": {},
   "source": [
    "We need to dictionary search both the causal results and the pearson results."
   ]
  },
  {
   "cell_type": "code",
   "execution_count": null,
   "metadata": {},
   "outputs": [],
   "source": [
    "from _utils._analysis import dictionarysearch\n",
    "\n",
    "dictionarysearch(causalresults, pathwaydatabase=mouseRT, receptordatabase=REACTTRUSTmouse_dict)\n",
    "\n",
    "dictionarysearch(pearsonresults, pathwaydatabase=mouseRT, receptordatabase=REACTTRUSTmouse_dict)"
   ]
  },
  {
   "cell_type": "markdown",
   "metadata": {},
   "source": [
    "*Power Metrics*"
   ]
  },
  {
   "cell_type": "code",
   "execution_count": null,
   "metadata": {},
   "outputs": [],
   "source": [
    "# make a dataframe to store power metric values\n",
    "# also calculate n and N (these are the same because they are based on the original data)\n",
    "powermetrics = pd.DataFrame()\n",
    "powermetrics['Ns'] = [1*i for i in range(1,500)]\n",
    "n = findn(adata, pathwaydatabase = mouseRT, receptordatabase=REACTTRUSTmouse_dict)\n",
    "N = calculateN(adata)\n",
    "print(n, N)"
   ]
  },
  {
   "cell_type": "code",
   "execution_count": null,
   "metadata": {},
   "outputs": [],
   "source": [
    "# now calculate the power metrics for a variety of selection set sizes\n",
    "for i in range(len(powermetrics['Ns'])):\n",
    "        Ns = powermetrics.loc[i, 'Ns']\n",
    "        small = causalresults.head(Ns)\n",
    "        pm = powermetric(small, n = n, Ns = Ns, N = N)\n",
    "        powermetrics.loc[i, \"causal results\"] = pm\n",
    "\n",
    "for i in range(len(powermetrics['Ns'])):\n",
    "        Ns = powermetrics.loc[i, 'Ns']\n",
    "        small = pearsonresults.head(Ns)\n",
    "        pm = powermetric(small, n = n, Ns = Ns, N = N)\n",
    "        powermetrics.loc[i, \"pearson results\"] = pm"
   ]
  },
  {
   "cell_type": "code",
   "execution_count": null,
   "metadata": {},
   "outputs": [],
   "source": [
    "# plot\n",
    "plt.figure(figsize = (10, 6))\n",
    "plt.plot(powermetrics['Ns'], powermetrics['pearson results'], marker='', color='orange', label='Pearsons')\n",
    "plt.plot(powermetrics['Ns'], powermetrics['causal results'], marker='', color='b', label='Causal')\n",
    "plt.xlabel('Number of Pairs Selected')\n",
    "plt.ylabel('Power Metrics')\n",
    "plt.title('Power Metrics')\n",
    "plt.legend()\n",
    "plt.grid(True)\n",
    "plt.show()"
   ]
  },
  {
   "cell_type": "markdown",
   "metadata": {},
   "source": [
    "*Positive Matches*\n",
    "\n",
    "Basically the same thing as above, but looking at correct matches instead of Power Metrics."
   ]
  },
  {
   "cell_type": "code",
   "execution_count": null,
   "metadata": {},
   "outputs": [],
   "source": [
    "positivematches = pd.DataFrame()\n",
    "positivematches['Ns'] = [1*i for i in range(1,500)]\n",
    "\n",
    "for i in range(len(positivematches['Ns'])):\n",
    "        Ns = positivematches.loc[i, 'Ns']\n",
    "        small = causalresults.head(Ns)\n",
    "        matches = calculatens(small)\n",
    "        positivematches.loc[i, \"causal results\"] = matches\n",
    "\n",
    "for i in range(len(positivematches['Ns'])):\n",
    "        Ns = positivematches.loc[i, 'Ns']\n",
    "        small = pearsonresults.head(Ns)\n",
    "        matches = calculatens(small)\n",
    "        positivematches.loc[i, \"pearson results\"] = matches"
   ]
  },
  {
   "cell_type": "code",
   "execution_count": null,
   "metadata": {},
   "outputs": [],
   "source": [
    "# plot\n",
    "plt.figure(figsize = (10, 6))\n",
    "plt.plot(positivematches['Ns'], positivematches['pearson results'], marker='', color='orange', label='Pearsons')\n",
    "plt.plot(positivematches['Ns'], positivematches['causal results'], marker='', color='b', label='Causal')\n",
    "plt.xlabel('Number of Pairs Selected')\n",
    "plt.ylabel('Positive Matches')\n",
    "plt.title('Positive Matches')\n",
    "plt.legend()\n",
    "plt.grid(True)\n",
    "plt.show()"
   ]
  },
  {
   "cell_type": "markdown",
   "metadata": {},
   "source": [
    "*Receptor Filter*\n",
    "\n",
    "We may also choose to filter out pathways that promote their own receptor. "
   ]
  },
  {
   "cell_type": "code",
   "execution_count": null,
   "metadata": {},
   "outputs": [],
   "source": [
    "from _utils._analysis import receptorfilter\n",
    "\n",
    "filteredcausalresults = receptorfilter(causalresults, CellChatmouse_dict)\n",
    "filteredpearsonresults = receptorfilter(pearsonresults, CellChatmouse_dict)"
   ]
  },
  {
   "cell_type": "code",
   "execution_count": null,
   "metadata": {},
   "outputs": [],
   "source": [
    "# power metrics again\n",
    "for i in range(len(powermetrics['Ns'])):\n",
    "        Ns = powermetrics.loc[i, 'Ns']\n",
    "        small = filteredcausalresults.head(Ns)\n",
    "        pm = powermetric(small, n = n, Ns = Ns, N = N)\n",
    "        powermetrics.loc[i, \"filtered causal results\"] = pm\n",
    "\n",
    "for i in range(len(powermetrics['Ns'])):\n",
    "        Ns = powermetrics.loc[i, 'Ns']\n",
    "        small = filteredpearsonresults.head(Ns)\n",
    "        pm = powermetric(small, n = n, Ns = Ns, N = N)\n",
    "        powermetrics.loc[i, \"filtered pearson results\"] = pm"
   ]
  },
  {
   "cell_type": "code",
   "execution_count": null,
   "metadata": {},
   "outputs": [],
   "source": [
    "# plot\n",
    "plt.figure(figsize = (10, 6))\n",
    "plt.plot(powermetrics['Ns'], powermetrics['filtered pearson results'], marker='', color='orange', label='Filtered Pearsons')\n",
    "plt.plot(powermetrics['Ns'], powermetrics['filtered causal results'], marker='', color='b', label='Filtered Causal')\n",
    "plt.xlabel('Number of Pairs Selected')\n",
    "plt.ylabel('Power Metrics')\n",
    "plt.title('Power Metrics')\n",
    "plt.legend()\n",
    "plt.grid(True)\n",
    "plt.show()"
   ]
  },
  {
   "cell_type": "markdown",
   "metadata": {},
   "source": [
    "*TF Activity*\n",
    "\n",
    "We might want to see if the pathway signal pairs identified by our method have the necessary transcription factors present in the dataset. If our method has truly identified causal relationships, then we would expect to see that the pairs have lots of transcription factor present. "
   ]
  },
  {
   "cell_type": "code",
   "execution_count": null,
   "metadata": {},
   "outputs": [],
   "source": [
    "from _utils._analysis import signalsum, tfactivitysearch\n",
    "\n",
    "tfactivitysearch(adata, causalresults, pathwaydatabase = mouseRT, receptordatabase = REACTTRUSTmouse_dict, \n",
    "                 receptortfdatabase = REACTmouse_dict, tfgenedatabase = TRUSTmouse_dict, pathwayreceptordatabase = CellChatmouse_dict)\n",
    "\n",
    "tfactivitysearch(adata, pearsonresults, pathwaydatabase = mouseRT, receptordatabase = REACTTRUSTmouse_dict, \n",
    "                 receptortfdatabase = REACTmouse_dict, tfgenedatabase = TRUSTmouse_dict, pathwayreceptordatabase = CellChatmouse_dict)\n",
    "\n",
    "signalsum(causalresults, adata)\n",
    "signalsum(pearsonresults, adata)"
   ]
  },
  {
   "cell_type": "code",
   "execution_count": null,
   "metadata": {},
   "outputs": [],
   "source": [
    "import matplotlib.pyplot as plt\n",
    "use = pearsonresults[pearsonresults['dictionary search']=='yes']\n",
    "plt.scatter(use['Pearson'], use['TF sum']*use['Signal sum'])\n",
    "plt.xlabel('Pearson')\n",
    "plt.ylabel('TF*Signal')\n",
    "plt.title('Pearsons vs. TF*Signal')"
   ]
  },
  {
   "cell_type": "code",
   "execution_count": null,
   "metadata": {},
   "outputs": [],
   "source": [
    "use = causalresults[causalresults['dictionary search']=='yes'].reset_index()\n",
    "for i in range(0, len(use)):\n",
    "    use.loc[i, 'negp'] = 1-use.loc[i, 'p_values']\n",
    "plt.scatter(use['negp'], use['TF sum']*use['Signal sum'])\n",
    "plt.xlabel('1-p-value')\n",
    "plt.ylabel('TF*Signal')\n",
    "plt.title('1-p-value vs. TF*Signal')\n",
    "plt.legend()"
   ]
  },
  {
   "cell_type": "markdown",
   "metadata": {},
   "source": [
    "Note that although these metrics are not directly comparable, in both cases it is desirable to have many dots in the upper right corner."
   ]
  }
 ],
 "metadata": {
  "kernelspec": {
   "display_name": "DRUMS",
   "language": "python",
   "name": "python3"
  },
  "language_info": {
   "codemirror_mode": {
    "name": "ipython",
    "version": 3
   },
   "file_extension": ".py",
   "mimetype": "text/x-python",
   "name": "python",
   "nbconvert_exporter": "python",
   "pygments_lexer": "ipython3",
   "version": "3.12.5"
  }
 },
 "nbformat": 4,
 "nbformat_minor": 2
}
